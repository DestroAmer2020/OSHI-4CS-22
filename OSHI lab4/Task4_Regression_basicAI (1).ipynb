{
 "cells": [
  {
   "cell_type": "markdown",
   "metadata": {
    "id": "fw_CSA8lOFYZ"
   },
   "source": [
    "## Лабораторна робота 4. **REGRESSION** 📈"
   ]
  },
  {
   "cell_type": "markdown",
   "metadata": {
    "id": "IeMC6xnfOFYa"
   },
   "source": [
    "# Опис вибірки \"Motorbike Ambulance Calls\""
   ]
  },
  {
   "cell_type": "markdown",
   "metadata": {
    "id": "kWTcPp7HOFYb"
   },
   "source": [
    "\n",
    "Аварії за участю мотоциклів та відповідні виклики швидкої допомоги сильно залежать від екологічних та сезонних умов, таких як погодні умови, опади, день тижня, сезон, година дня тощо. Дані збирались протягом двох років щогодини та потім співвідносилися з відповідною погодою та сезонністю."
   ]
  },
  {
   "cell_type": "markdown",
   "metadata": {
    "id": "YtPLqroLOFYc"
   },
   "source": [
    "Основні характеристики вибірки `motorbike_ambulance_calls.csv`:\n",
    "\n",
    "              - index: record index\n",
    "              - date : date\n",
    "              - season : season (1:springer, 2:summer, 3:fall, 4:winter)\n",
    "              - yr : year (0: 2011, 1:2012)\n",
    "              - mnth : month ( 1 to 12)\n",
    "              - hr : hour (0 to 23)\n",
    "              - holiday : whether day is holiday or not\n",
    "              - weekday : day of the week\n",
    "              - workingday : if day is neither weekend nor holiday is 1, otherwise is 0.\n",
    "              -  weathersit :\n",
    "                      - 1: Clear, Few clouds, Partly cloudy, Partly cloudy\n",
    "                      - 2: Mist + Cloudy, Mist + Broken clouds, Mist + Few clouds, Mist\n",
    "                      - 3: Light Snow, Light Rain + Thunderstorm + Scattered clouds, Light Rain + Scattered clouds\n",
    "                      - 4: Heavy Rain + Ice Pallets + Thunderstorm + Mist, Snow + Fog\n",
    "              - temp : Normalized temperature in Celsius. The values are divided to 41 (max)\n",
    "              - atemp: Normalized feeling temperature in Celsius. The values are divided to 50 (max)\n",
    "              - hum: Normalized humidity. The values are divided to 100 (max)\n",
    "              - windspeed: Normalized wind speed. The values are divided to 67 (max)\n",
    "              - cnt: count of total ambulance calls"
   ]
  },
  {
   "cell_type": "markdown",
   "metadata": {
    "id": "LYXSslcIOFYc"
   },
   "source": [
    "## Імпорт необхідних бібліотек та завантаження даних"
   ]
  },
  {
   "cell_type": "markdown",
   "metadata": {
    "id": "pTFWHvM6OFYc"
   },
   "source": [
    "**Завдання 1** підготовка даних до опрацювання\n",
    "\n",
    "1. завантажте вибірку `motorbike_ambulance_calls.csv`;   \n",
    "2. підключіть необхідні бібліотеки;  \n",
    "3. вивести основну статистичну інформацію по числовим змінним;  \n",
    "4. окремо вивести максимальні та мінімальні значення по всім змінним;  \n",
    "5. вивести розмірність датасету;"
   ]
  },
  {
   "cell_type": "code",
   "execution_count": null,
   "metadata": {
    "id": "xmwhs0cnOFYd"
   },
   "outputs": [],
   "source": [
    "import pandas as pd\n",
    "import numpy as np\n",
    "import scipy as sc\n",
    "from sklearn.model_selection import train_test_split\n",
    "from sklearn.linear_model import LinearRegression\n",
    "from sklearn.metrics import mean_squared_error, r2_score\n",
    "import matplotlib.pyplot as plt\n",
    "import seaborn as sns\n",
    "%matplotlib inline"
   ]
  },
  {
   "cell_type": "code",
   "execution_count": null,
   "metadata": {
    "id": "7qXErcPRPH6R"
   },
   "outputs": [],
   "source": [
    "def get_data(data_path: str):\n",
    "data = pd.read_csv(data_path) \n",
    "return data"
   ]
  },
  {
   "cell_type": "code",
   "execution_count": null,
   "metadata": {
    "id": "YEsA-KVhVylk"
   },
   "outputs": [],
   "source": [
    "def main():\n",
    "    # Шлях до вашого CSV-файлу\n",
    "    data_path = 'motorbike_ambulance_calls.csv'\n",
    "\n",
    "    # Виклик функції для завантаження даних\n",
    "    data = get_data(data_path=data_path)\n",
    "\n",
    "    # Виведення основної статистичної інформації по числовим змінним\n",
    "    print(data.describe())\n",
    "\n",
    "    # Окреме виведення максимальних значень по всім змінним\n",
    "    print('Максимальні значення:')\n",
    "    print(data.max())\n",
    "\n",
    "    # Окреме виведення мінімальних значень по всім змінним\n",
    "    print('Мінімальні значення:')\n",
    "    print(data.min())\n",
    "\n",
    "    # Виведення розмірності датасету\n",
    "    print('Розмірність датасету:')\n",
    "    print(data.shape)\n",
    "\n",
    "if __name__ == '__main__':\n",
    "    main()"
   ]
  },
  {
   "cell_type": "markdown",
   "metadata": {
    "id": "Ky9g0TdPOFYd"
   },
   "source": [
    "**Завдання 2** перевірити типи даних та перевірте кількість даних по кожній змінній."
   ]
  },
  {
   "cell_type": "code",
   "execution_count": null,
   "metadata": {
    "id": "5ofgwU6IOFYe"
   },
   "outputs": [],
   "source": [
    "def main():\n",
    "    # Шлях до вашого CSV-файлу\n",
    "    data_path = 'motorbike_ambulance_calls.csv'\n",
    "\n",
    "    # Виклик функції для завантаження даних\n",
    "    data = get_data(data_path=data_path)\n",
    "\n",
    "    # Виведення основної статистичної інформації по числовим змінним\n",
    "    print(data.describe())\n",
    "\n",
    "    # Окреме виведення максимальних значень по всім змінним\n",
    "    print('Максимальні значення:')\n",
    "    print(data.max())\n",
    "\n",
    "    # Окреме виведення мінімальних значень по всім змінним\n",
    "    print('Мінімальні значення:')\n",
    "    print(data.min())\n",
    "\n",
    "    # Виведення розмірності датасету\n",
    "    print('Розмірність датасету:')\n",
    "    print(data.shape)\n",
    "\n",
    "    # Виведення типів даних по кожній змінній\n",
    "    print('Типи даних по кожній змінній:')\n",
    "    print(data.dtypes)\n",
    "\n",
    "    # Виведення кількості даних по кожній змінній\n",
    "    print('Кількість даних по кожній змінній:')\n",
    "    print(data.count())\n",
    "\n",
    "if __name__ == '__main__':\n",
    "    main()\n"
   ]
  },
  {
   "cell_type": "markdown",
   "metadata": {
    "id": "DINUFxTsOFYe"
   },
   "source": [
    "**Завдання 3** пепевірте всі змінні на наявність пропусків."
   ]
  },
  {
   "cell_type": "code",
   "execution_count": null,
   "metadata": {
    "id": "PFa4iiowOFYe"
   },
   "outputs": [],
   "source": [
    "def main():\n",
    "    # Шлях до вашого CSV-файлу\n",
    "    data_path = 'motorbike_ambulance_calls.csv'\n",
    "\n",
    "    # Виклик функції для завантаження даних\n",
    "    data = get_data(data_path=data_path)\n",
    "\n",
    "    # Виведення основної статистичної інформації по числовим змінним\n",
    "    print(data.describe())\n",
    "\n",
    "    # Окреме виведення максимальних значень по всім змінним\n",
    "    print('Максимальні значення:')\n",
    "    print(data.max())\n",
    "\n",
    "    # Окреме виведення мінімальних значень по всім змінним\n",
    "    print('Мінімальні значення:')\n",
    "    print(data.min())\n",
    "\n",
    "    # Виведення розмірності датасету\n",
    "    print('Розмірність датасету:')\n",
    "    print(data.shape)\n",
    "\n",
    "    # Виведення типів даних по кожній змінній\n",
    "    print('Типи даних по кожній змінній:')\n",
    "    print(data.dtypes)\n",
    "\n",
    "    # Виведення кількості даних по кожній змінній\n",
    "    print('Кількість даних по кожній змінній:')\n",
    "    print(data.count())\n",
    "\n",
    "    # Перевірка наявності пропущених значень у всіх змінних\n",
    "    print('Перевірка наявності пропущених значень:')\n",
    "    print(data.isnull().sum())\n",
    "\n",
    "if __name__ == '__main__':\n",
    "    main()\n"
   ]
  },
  {
   "cell_type": "markdown",
   "metadata": {
    "id": "fJadTHp_PfVK"
   },
   "source": [
    "**Висновки з 1-3 завдання (детальні)**"
   ]
  },
  {
   "cell_type": "markdown",
   "metadata": {
    "id": "917TbDlJPuRO"
   },
   "source": [
    "\n",
    "\n",
    "1. Завантаження та підготовка даних\n",
    "Дані успішно завантажені з CSV-файлу motorbike_ambulance_calls.csv.\n",
    "Для роботи з даними використані бібліотеки pandas, numpy, scipy, sklearn, matplotlib та seaborn.\n",
    "2. Статистична інформація та розмірність датасету\n",
    "Після завантаження даних була виведена основна статистична інформація по числовим змінним.\n",
    "Також були виведені максимальні та мінімальні значення по всім змінним.\n",
    "3. Розмірність датасету виведена як кількість рядків та стовпців (shape).\n",
    "Перевірка наявності пропущених значень\n",
    "Виявлено, що деякі змінні містять пропущені значення.\n",
    "За допомогою методу isnull().sum() було визначено кількість пропущених значень по кожній змінній.\n",
    "\n"
   ]
  },
  {
   "cell_type": "markdown",
   "metadata": {
    "id": "x-vbKqLdOFYf"
   },
   "source": [
    "**Завдання 4** перетворіть змінну `date` в **date type**. Визначте часові межі датасету."
   ]
  },
  {
   "cell_type": "code",
   "execution_count": null,
   "metadata": {
    "id": "fvpiaJGaOFYf"
   },
   "outputs": [],
   "source": [
    "def tranform_date(df: pd.DataFrame, date_col_name: str):\n",
    "  df[date_col_name] = #your code\n",
    "  return df\n",
    "  \n",
    "data = tranform_date(data, 'date')\n"
   ]
  },
  {
   "cell_type": "code",
   "execution_count": null,
   "metadata": {
    "id": "Er6MX_qXW7mF"
   },
   "outputs": [],
   "source": [
    "def get_time_limits(df: pd.DataFrame, date_col_name: str):\n",
    "  first_day = #your code\n",
    "  last_day = #your code\n",
    "  print(f\"First day of dataset - {first_day}.\\n Last day of dataset - {last_day}\")"
   ]
  },
  {
   "cell_type": "code",
   "execution_count": null,
   "metadata": {
    "id": "bCq7E5z7OFYf"
   },
   "outputs": [],
   "source": [
    "import pandas as pd\n",
    "\n",
    "def transform_date(df: pd.DataFrame, date_col_name: str):\n",
    "    df[date_col_name] = pd.to_datetime(df[date_col_name])\n",
    "    return df\n",
    "\n",
    "def get_time_limits(df: pd.DataFrame, date_col_name: str):\n",
    "    first_day = df[date_col_name].min()\n",
    "    last_day = df[date_col_name].max()\n",
    "    print(f\"Перший день датасету - {first_day}.\\nОстанній день датасету - {last_day}\")\n",
    "\n",
    "# Перетворення змінної 'date' у тип 'datetime'\n",
    "data = transform_date(data, 'date')\n",
    "\n",
    "# Визначення часових меж датасету\n",
    "get_time_limits(data, 'date')\n"
   ]
  },
  {
   "cell_type": "markdown",
   "metadata": {
    "id": "t47EclTiQ7fS"
   },
   "source": [
    "#Аналіз категоріальних змінних"
   ]
  },
  {
   "cell_type": "markdown",
   "metadata": {
    "id": "hNQ7h5iuOFYf"
   },
   "source": [
    "**Завдання 5** виділити категоріальні змінні в окремий датасет\n",
    "\n",
    "\n",
    "\n",
    "\n",
    "\n"
   ]
  },
  {
   "cell_type": "code",
   "execution_count": null,
   "metadata": {
    "id": "JY8QiSCcOFYg"
   },
   "outputs": [],
   "source": [
    "def separate_categorical(df: pd.DataFrame):\n",
    "    # Вибираємо стовпці з типом 'object' (категоріальні змінні)\n",
    "    categorical_cols = df.select_dtypes(include=['object']).columns.tolist()\n",
    "    \n",
    "    # Створюємо окремий датасет з категоріальними змінними\n",
    "    data_categorical = df[categorical_cols].copy()\n",
    "    \n",
    "    return data_categorical\n",
    "\n",
    "# Виділення категоріальних змінних у окремий датасет\n",
    "data_categorical = separate_categorical(data)\n"
   ]
  },
  {
   "cell_type": "markdown",
   "metadata": {
    "id": "2fiDriKxOFYg"
   },
   "source": [
    "**Завдання 6** перетворіть змінну `season` в числову шкалу."
   ]
  },
  {
   "cell_type": "code",
   "execution_count": null,
   "metadata": {
    "id": "SCIk-1AMRDqH"
   },
   "outputs": [],
   "source": [
    "def encode_season(df: pd.DataFrame, season_col_name: str):\n",
    "    # Створюємо словник заміни числових значень на категоріальні\n",
    "    season_mapping = {1: 'springer', 2: 'summer', 3: 'fall', 4: 'winter'}\n",
    "    \n",
    "    # Застосовуємо map() для заміни числових значень\n",
    "    df[season_col_name] = df[season_col_name].map(season_mapping)\n",
    "    \n",
    "    return df\n",
    "\n",
    "# Перетворення змінної 'season' в числову шкалу (категоріальну)\n",
    "data = encode_season(data, 'season')\n"
   ]
  },
  {
   "cell_type": "markdown",
   "metadata": {
    "id": "RPORQyRoOFYg"
   },
   "source": [
    "**Завдання 7** побудувати графіки `countplot` по всім категоріальним змінним"
   ]
  },
  {
   "cell_type": "code",
   "execution_count": null,
   "metadata": {
    "id": "nnBYo2YrOFYh"
   },
   "outputs": [],
   "source": [
    "import seaborn as sns\n",
    "import matplotlib.pyplot as plt\n",
    "\n",
    "# Побудова графіків countplot для всіх категоріальних змінних\n",
    "fig, ax = plt.subplots(2, 4, figsize=(20, 10))\n",
    "\n",
    "for variable, subplot in zip(data_categorical.columns, ax.flatten()):\n",
    "    sns.countplot(x=variable, data=data_categorical, ax=subplot)\n",
    "    subplot.set_title(f'Countplot of {variable}')\n",
    "\n",
    "# Встановлення коректного розміщення заголовків та меж графіків\n",
    "plt.tight_layout()\n",
    "plt.show()\n"
   ]
  },
  {
   "cell_type": "markdown",
   "metadata": {
    "id": "Rx8E_9EXRbWF"
   },
   "source": [
    "**Висновки з 5-7 завдання (детальні)**"
   ]
  },
  {
   "cell_type": "markdown",
   "metadata": {
    "id": "2Nu4VpZPRbWP"
   },
   "source": [
    "\n",
    "\n",
    "1.   Був виділений окремий датасет data_categorical, який містить лише категоріальні змінні з основного датасету.\n",
    "Це дозволяє зосередитися на аналізі та візуалізації категоріальних даних без зайвих відволікалок від числових змінних.\n",
    "2.   Змінна season була перетворена у числову шкалу, якщо це було необхідно.\n",
    "У вас була можливість вибрати підходящий метод кодування, наприклад, one-hot encoding або map(), залежно від конкретних потреб вашого аналізу.\n",
    "3. Побудовано графіки countplot для всіх категоріальних змінних з датасету data_categorical.\n",
    "Ці графіки надають візуальне уявлення про розподіл категорійних даних у ваших даних.\n",
    "Графіки допомагають виявити різноманітність та частоту кожної категорії, що є важливим кроком у розумінні структури даних перед подальшим аналізом та моделюванням.\n",
    "\n"
   ]
  },
  {
   "cell_type": "markdown",
   "metadata": {
    "id": "MPRBUU2HRmId"
   },
   "source": [
    "#Аналіз числових змінних"
   ]
  },
  {
   "cell_type": "markdown",
   "metadata": {
    "id": "PfHcV5tIOFYh"
   },
   "source": [
    "**Завдання 8** виділити числові змінні в окремий датасет"
   ]
  },
  {
   "cell_type": "code",
   "execution_count": null,
   "metadata": {
    "id": "GgCMFLdjOFYh"
   },
   "outputs": [],
   "source": [
    "def separate_numerical(df: pd.DataFrame):\n",
    "    # Вибираємо стовпці з числовими типами даних\n",
    "    numerical_cols = df.select_dtypes(include=['number']).columns.tolist()\n",
    "    \n",
    "    # Створюємо окремий датасет з числовими змінними\n",
    "    data_numerical = df[numerical_cols].copy()\n",
    "    \n",
    "    return data_numerical\n",
    "\n",
    "# Виділення числових змінних у окремий датасет\n",
    "data_numerical = separate_numerical(data)\n"
   ]
  },
  {
   "cell_type": "markdown",
   "metadata": {
    "id": "RoA2FaycOFYi"
   },
   "source": [
    "**Завдання 9** побудуйте гістограми розподілу по всім числовим змінним"
   ]
  },
  {
   "cell_type": "code",
   "execution_count": null,
   "metadata": {
    "id": "KYYglRPzOFYi"
   },
   "outputs": [],
   "source": [
    "# Побудова гістограм розподілу по всім числовим змінним\n",
    "fig, ax = plt.subplots(2, 2, figsize=(20, 10))\n",
    "\n",
    "# Гістограма для стовпця 'temp'\n",
    "ax[0, 0].hist(data_numerical['temp'], bins=30, color='blue', alpha=0.7)\n",
    "ax[0, 0].set_title('Distribution of temp')\n",
    "ax[0, 0].set_xlabel('Temperature')\n",
    "ax[0, 0].set_ylabel('Frequency')\n",
    "\n",
    "# Гістограма для стовпця 'atemp'\n",
    "ax[0, 1].hist(data_numerical['atemp'], bins=30, color='green', alpha=0.7)\n",
    "ax[0, 1].set_title('Distribution of atemp')\n",
    "ax[0, 1].set_xlabel('Feeling Temperature')\n",
    "ax[0, 1].set_ylabel('Frequency')\n",
    "\n",
    "# Гістограма для стовпця 'hum'\n",
    "ax[1, 0].hist(data_numerical['hum'], bins=30, color='orange', alpha=0.7)\n",
    "ax[1, 0].set_title('Distribution of hum')\n",
    "ax[1, 0].set_xlabel('Humidity')\n",
    "ax[1, 0].set_ylabel('Frequency')\n",
    "\n",
    "# Гістограма для стовпця 'windspeed'\n",
    "ax[1, 1].hist(data_numerical['windspeed'], bins=30, color='red', alpha=0.7)\n",
    "ax[1, 1].set_title('Distribution of windspeed')\n",
    "ax[1, 1].set_xlabel('Wind Speed')\n",
    "ax[1, 1].set_ylabel('Frequency')\n",
    "\n",
    "# Встановлення коректного розміщення заголовків та меж графіків\n",
    "plt.tight_layout()\n",
    "plt.show()\n"
   ]
  },
  {
   "cell_type": "markdown",
   "metadata": {
    "id": "j2i-eYdpOFYi"
   },
   "source": [
    "**Завдання 10** побудуйте гістограму розподілу цільової змінної та розрахуйте коефіціент нахилу"
   ]
  },
  {
   "cell_type": "code",
   "execution_count": null,
   "metadata": {
    "id": "FXcXUEGPOFYi"
   },
   "outputs": [],
   "source": [
    "import pandas as pd\n",
    "import numpy as np\n",
    "import scipy.stats as sc\n",
    "import matplotlib.pyplot as plt\n",
    "\n",
    "# Побудова гістограми розподілу цільової змінної 'cnt'\n",
    "plt.figure(figsize=(10, 6))\n",
    "plt.hist(data['cnt'], bins=30, color='skyblue', alpha=0.7)\n",
    "plt.title('Distribution of Ambulance Calls (cnt)')\n",
    "plt.xlabel('Number of Calls')\n",
    "plt.ylabel('Frequency')\n",
    "plt.grid(True)\n",
    "plt.show()\n",
    "\n",
    "# Розрахунок коефіціента нахилу (slope) залежності цільової змінної 'cnt' від іншої змінної\n",
    "slope, intercept, r_value, p_value, std_err = sc.linregress(data['temp'], data['cnt'])\n",
    "print(f\"Slope (коефіціент нахилу): {slope}\")\n"
   ]
  },
  {
   "cell_type": "markdown",
   "metadata": {
    "id": "FMaDSFrySVnk"
   },
   "source": [
    "**Висновки з 8-10 завдання (детальні)**"
   ]
  },
  {
   "cell_type": "markdown",
   "metadata": {
    "id": "MxYx4wDLSVnu"
   },
   "source": [
    "\n",
    "\n",
    "1.   Було виділено числові змінні у окремий датасет data_numerical, щоб зручно працювати з цими змінними окремо від категоріальних та інших типів даних. Це дозволить проводити аналіз числових змінних та використовувати їх для моделювання.\n",
    "2.   Були побудовані гістограми розподілу для кожної числової змінної у датасеті data_numerical. Гістограми дозволили оцінити форму розподілу кожної змінної та виявити можливі викиди або нетипові значення.\n",
    "3.   Також була побудована гістограма розподілу цільової змінної 'cnt' (кількість викликів швидкої допомоги). Графік показав, що розподіл цільової змінної не є рівномірним і має складну структуру.\n",
    "Розраховано коефіцієнт нахилу (slope) за залежністю цільової змінної 'cnt' від іншої змінної 'temp'. Коефіцієнт нахилу показує наявність тенденції зміни цільової змінної в залежності від 'temp'. Наприклад, якщо 'temp' зростає, 'cnt' також може зростати або зменшуватися в залежності від зв'язку між цими змінними.\n",
    "\n"
   ]
  },
  {
   "cell_type": "markdown",
   "metadata": {
    "id": "tW6lRMmXSe37"
   },
   "source": [
    "#Аналіз взаємозв'язків між числовими і категоріальними змінними"
   ]
  },
  {
   "cell_type": "markdown",
   "metadata": {
    "id": "SVUUZyAMOFYj"
   },
   "source": [
    "**Завдання 11** побудуйте графіки співвідношення `scatterplot` між всіма числовими змінними і цільовою змінною `cnt`"
   ]
  },
  {
   "cell_type": "code",
   "execution_count": null,
   "metadata": {
    "id": "Mq59RzhGOFYj"
   },
   "outputs": [],
   "source": [
    "fig, ax = plt.subplots(2, 2, figsize=(15, 10))\n",
    "\n",
    "# Створюємо scatterplot для кожної числової змінної\n",
    "for idx, col in enumerate(data_numerical.drop('cnt', axis=1).columns):\n",
    "    ax[idx // 2, idx % 2].scatter(data_numerical[col], data_numerical['cnt'], alpha=0.5)\n",
    "    ax[idx // 2, idx % 2].set_title(f'Scatterplot: {col} vs cnt')\n",
    "    ax[idx // 2, idx % 2].set_xlabel(col)\n",
    "    ax[idx // 2, idx % 2].set_ylabel('cnt')\n",
    "\n",
    "# Відображення графіків\n",
    "plt.tight_layout()\n",
    "plt.show()\n"
   ]
  },
  {
   "cell_type": "markdown",
   "metadata": {
    "id": "y_fW_ZqCOFYj"
   },
   "source": [
    "**Завдання 12** побудуйте графіки співвідношення `boxplot`[boxplot](https://matplotlib.org/stable/gallery/statistics/boxplot_demo.html) між категоріальними змінними і цільовою змінною `cnt`."
   ]
  },
  {
   "cell_type": "code",
   "execution_count": null,
   "metadata": {
    "id": "S3TxCC3XOFYj"
   },
   "outputs": [],
   "source": [
    "fig, ax = plt.subplots(2, 4, figsize=(20, 10))\n",
    "\n",
    "# Створюємо boxplot для кожної категоріальної змінної\n",
    "for idx, col in enumerate(data_categorical.columns):\n",
    "    sns.boxplot(x=col, y='cnt', data=data, ax=ax[idx // 4, idx % 4])\n",
    "    ax[idx // 4, idx % 4].set_title(f'Boxplot: {col} vs cnt')\n",
    "\n",
    "# Відображення графіків\n",
    "plt.tight_layout()\n",
    "plt.show()\n"
   ]
  },
  {
   "cell_type": "markdown",
   "metadata": {
    "id": "g2Ry5dgQTMeG"
   },
   "source": [
    "**Висновки з 11-12 завдання (детальні)**"
   ]
  },
  {
   "cell_type": "markdown",
   "metadata": {
    "id": "tWtJbT5sTMeS"
   },
   "source": [
    "\n",
    "\n",
    "1.   Графіки scatterplot показують залежність між кожною числовою змінною (температура, вологість, швидкість вітру тощо) та цільовою змінною cnt. Наприклад, можна побачити, як змінюється кількість викликів швидкої допомоги при зміні температури, вологості чи інших показників. Ці графіки допомагають виявляти можливі залежності між змінними та оцінювати їх вплив на кількість викликів.\n",
    "2.   Графіки boxplot дозволяють оцінити розподіл цільової змінної cnt в залежності від кожної категоріальної змінної (сезон, рік, місяць, година тощо). Ці графіки дозволяють виявити, як змінюється кількість викликів швидкої допомоги в різні періоди, які можуть бути пов'язані з сезонністю, днями тижня чи іншими факторами.\n",
    "\n"
   ]
  },
  {
   "cell_type": "markdown",
   "metadata": {
    "id": "pp7mUJyUOFYj"
   },
   "source": [
    "**Завдання 13** Побудувати матрицю кореляції:  \n",
    "\n",
    "1.   Вирахувати кореляційні коефіціенти для набору данних за методом Пірсона\n",
    "2.   Відобразити отриману матрицю коефіціентів у вигляді теплокарти  \n",
    "3.   Вирахувати кореляційні коефіціенти для набору данних за методом Спірмана\n",
    "4.   Відобразити отриману матрицю коефіціентів у вигляді теплокарти\n",
    "\n",
    "5. Описати отримані результати, спираючись на значення коефіціентів кореляції та пояснити в чому відмінність обраних методів."
   ]
  },
  {
   "cell_type": "code",
   "execution_count": null,
   "metadata": {
    "id": "H_jTQTC9OFYk"
   },
   "outputs": [],
   "source": [
    "# Вирахування кореляційних коефіціентів за методом Пірсона\n",
    "correlation_pearson = data.corr(method='pearson')\n",
    "\n",
    "# Відображення матриці кореляції у вигляді теплокарти\n",
    "plt.figure(figsize=(12, 8))\n",
    "sns.heatmap(correlation_pearson, annot=True, cmap='coolwarm', fmt=\".2f\")\n",
    "plt.title('Correlation Matrix (Pearson)')\n",
    "plt.show()\n",
    "\n",
    "# Вирахування кореляційних коефіціентів за методом Спірмена\n",
    "correlation_spearman = data.corr(method='spearman')\n",
    "\n",
    "# Відображення матриці кореляції у вигляді теплокарти\n",
    "plt.figure(figsize=(12, 8))\n",
    "sns.heatmap(correlation_spearman, annot=True, cmap='coolwarm', fmt=\".2f\")\n",
    "plt.title('Correlation Matrix (Spearman)')\n",
    "plt.show()\n"
   ]
  },
  {
   "cell_type": "code",
   "execution_count": null,
   "metadata": {
    "id": "ZsJyxSauOFYk"
   },
   "outputs": [],
   "source": [
    "Метод Пірсона використовується для вимірювання лінійної залежності між двома неперервними змінними. Він розраховує коефіцієнт кореляції, який може приймати значення від -1 до 1. \n",
    "Значення нульового коефіцієнта кореляції вказує на відсутність лінійної залежності, позитивне значення вказує на позитивну залежність, а від'ємне - на негативну залежність.\n",
    "Метод Спірмена використовується для вимірювання монотонної залежності між змінними, не обов'язково лінійної. Він також розраховує коефіцієнт кореляції, але враховує не тільки лінійні, а й не лінійні відносини між змінними. \n",
    "Коефіцієнт Спірмена також може приймати значення від -1 до 1, де 0 вказує на відсутність монотонної залежності.\n",
    "Отже, обидва методи кореляції використовуються для вимірювання залежності між змінними, просто з різною чутливістю до типу залежності та можливостями виявлення не лінійних взаємозв'язків."
   ]
  },
  {
   "cell_type": "markdown",
   "metadata": {
    "id": "f_DldEV1OFYk"
   },
   "source": [
    "**Завдання 14** \n",
    "1. побудувати модель лінійної регресії:\n",
    "2. видалити змінні, які НЕ є релевантними;\n",
    "\n",
    "3. поділити вибірку на `train`, `test` та `validation` в пропорції `70/30`;  \n",
    "\n",
    "4. провести навчання моделі лінійної регресії;"
   ]
  },
  {
   "cell_type": "markdown",
   "metadata": {
    "id": "NIcZXn-wUmJL"
   },
   "source": [
    "1. Для подальшої роботи з моделями для кожної категоріальної змінної ми створимо фіктивні змінні, щоб уникнути неправильного порядку категорій. [get_dummies](https://pandas.pydata.org/pandas-docs/stable/reference/api/pandas.get_dummies.html)"
   ]
  },
  {
   "cell_type": "code",
   "execution_count": null,
   "metadata": {
    "id": "l7LAkoqcOFYk"
   },
   "outputs": [],
   "source": [
    "from sklearn.model_selection import train_test_split\n",
    "from sklearn.linear_model import LinearRegression\n",
    "from sklearn.metrics import mean_squared_error, r2_score\n",
    "\n",
    "def get_dummies(df: pd.DataFrame):\n",
    "    features = pd.concat([df,\n",
    "                          pd.get_dummies(df['season'], prefix='season'),\n",
    "                          pd.get_dummies(df['mnth'], prefix='mnth'),\n",
    "                          pd.get_dummies(df['weekday'], prefix='weekday'),\n",
    "                          pd.get_dummies(df['weathersit'], prefix='weathersit')\n",
    "                         ], axis=1)\n",
    "    features = features.drop(['season', 'mnth', 'weekday', 'weathersit'], axis=1)\n",
    "    return features\n",
    "\n",
    "features = get_dummies(data)\n",
    "\n",
    "# Вибір цільової змінної та визначення незалежних змінних\n",
    "X = features.drop(['cnt', 'date'], axis=1)\n",
    "y = features['cnt']\n",
    "\n",
    "# Розділення вибірки на train, test та validation\n",
    "X_train, X_temp, y_train, y_temp = train_test_split(X, y, test_size=0.3, random_state=42)\n",
    "X_test, X_val, y_test, y_val = train_test_split(X_temp, y_temp, test_size=0.5, random_state=42)\n",
    "\n",
    "# Побудова та навчання моделі лінійної регресії\n",
    "model = LinearRegression()\n",
    "model.fit(X_train, y_train)\n",
    "\n",
    "# Оцінка моделі на train та test вибірках\n",
    "train_predictions = model.predict(X_train)\n",
    "test_predictions = model.predict(X_test)\n",
    "\n",
    "# Обчислення MSE та R2-score для train та test вибірок\n",
    "train_mse = mean_squared_error(y_train, train_predictions)\n",
    "train_r2 = r2_score(y_train, train_predictions)\n",
    "\n",
    "test_mse = mean_squared_error(y_test, test_predictions)\n",
    "test_r2 = r2_score(y_test, test_predictions)\n",
    "\n",
    "print(f\"Train MSE: {train_mse}, Train R2-score: {train_r2}\")\n",
    "print(f\"Test MSE: {test_mse}, Test R2-score: {test_r2}\")\n"
   ]
  },
  {
   "cell_type": "code",
   "execution_count": null,
   "metadata": {
    "id": "Va2Y_GFfOFYk"
   },
   "outputs": [],
   "source": [
    "features = get_dummies(data)"
   ]
  },
  {
   "cell_type": "markdown",
   "metadata": {
    "id": "GyDiLOCwarGI"
   },
   "source": [
    "2. На основі змінної часу створіть нову змінну, яка відповідатиме за день і ніч."
   ]
  },
  {
   "cell_type": "code",
   "execution_count": null,
   "metadata": {
    "id": "G1w36q_jauUE"
   },
   "outputs": [],
   "source": [
    "# Визначення дня та ночі на основі години\n",
    "features['night_hours'] = features['hr'].apply(lambda x: 1 if (x >= 20) or (x <= 5) else 0)\n",
    "\n",
    "# Видалення змінної hr\n",
    "features = features.drop('hr', axis=1)\n"
   ]
  },
  {
   "cell_type": "markdown",
   "metadata": {
    "id": "V9I2zAKpbWGB"
   },
   "source": [
    "**Модель лінійної регрессії  \n",
    "\n",
    "[train_linear_model](https://scikit-learn.org/stable/modules/generated/sklearn.linear_model.LinearRegression.html)"
   ]
  },
  {
   "cell_type": "markdown",
   "metadata": {
    "id": "W4gkM20abtHh"
   },
   "source": [
    "Після отримання фіктивних змінних потрібно видалити по одній з кожної категорії, щоб запобігти мультиколінеарності. Також видаляємо ще два атрибути `date` та `atemp` - поясніть чому?"
   ]
  },
  {
   "cell_type": "code",
   "execution_count": null,
   "metadata": {
    "id": "lLQK9t5eb81Q"
   },
   "outputs": [],
   "source": [
    "features_lr = features.drop(['spring', 'mnth_4', 'weekday_0', 'weathersit_1', 'hr_0','atemp', 'date'], axis = 1)"
   ]
  },
  {
   "cell_type": "code",
   "execution_count": null,
   "metadata": {
    "id": "IUPl4bsCc0_G"
   },
   "outputs": [],
   "source": [
    "def get_train_data(df: pd.DataFrame, target: str, test_size: float):\n",
    "    X = df.drop(target, axis=1)\n",
    "    y = df[target]\n",
    "    X_train, X_test, y_train, y_test = train_test_split(X, y, test_size=test_size, random_state=42, shuffle=True)\n",
    "    return X_train, X_test, y_train, y_test"
   ]
  },
  {
   "cell_type": "code",
   "execution_count": null,
   "metadata": {
    "id": "Kf2GXp0Odr1w"
   },
   "outputs": [],
   "source": [
    "X_train, X_test, y_train, y_test = get_train_data(features_lr, 'cnt', 0.3)"
   ]
  },
  {
   "cell_type": "code",
   "execution_count": null,
   "metadata": {
    "id": "wFEgPbUHeUTh"
   },
   "outputs": [],
   "source": [
    "def train_linear_model(X_train, y_train):\n",
    "  model = LinearRegression()\n",
    "  model.fit(X_train, y_train)\n",
    "  return model\n",
    "\n",
    "model = train_linear_model(X_train, y_train)"
   ]
  },
  {
   "cell_type": "code",
   "execution_count": null,
   "metadata": {
    "id": "Inc9iPCXfChd"
   },
   "outputs": [],
   "source": [
    "# predict\n",
    "y_train_pred = model.predict(X_train)\n",
    "y_test_pred = model.predict(X_test)\n",
    "# scores\n",
    "print('MSE train: {:.3f}, test: {:.3f}'.format(\n",
    "        mean_squared_error(y_train, y_train_pred),\n",
    "        mean_squared_error(y_test, y_test_pred)))\n",
    "print('R^2 train: {:.3f}, test: {:.3f}'.format(\n",
    "        r2_score(y_train, y_train_pred),\n",
    "        r2_score(y_test, y_test_pred)))"
   ]
  },
  {
   "cell_type": "markdown",
   "metadata": {
    "id": "ycH4zmgTf17J"
   },
   "source": [
    "Оскільки в нашій моделі є багато незалежних змінних, ми не можемо відобразити їх залежність у двовимірному просторі, але ми можемо побудувати графік взаємозв'язку між залишками моделі та передбачуваними значеннями, що також допоможе нам оцінити якість моделі."
   ]
  },
  {
   "cell_type": "code",
   "execution_count": null,
   "metadata": {
    "id": "8g0Q8AZ6f0mY"
   },
   "outputs": [],
   "source": [
    "plt.scatter(y_train_pred,  y_train_pred - y_train,\n",
    "            c='#5f93ad', marker='o', label='Training data')\n",
    "plt.scatter(y_test_pred,  y_test_pred - y_test,\n",
    "            c='#98c3d9', marker='s', label='Test data')\n",
    "plt.xlabel('Predicted values')\n",
    "plt.ylabel('Residuals')\n",
    "plt.legend(loc='upper left')\n",
    "plt.hlines(y=0, xmin=-220, xmax=1000, lw=2, color='#000000')\n",
    "plt.tight_layout()"
   ]
  },
  {
   "cell_type": "markdown",
   "metadata": {
    "id": "FhsJB-8WgM4d"
   },
   "source": [
    "**Висновки з завдання (детальні)**"
   ]
  },
  {
   "cell_type": "markdown",
   "metadata": {
    "id": "AKUUhjrxgM4e"
   },
   "source": [
    "\n",
    "\n",
    "Підготовка даних:\n",
    "Після завантаження та підготовки даних ми провели перевірку типів даних, кількості пропущених значень та основних статистичних характеристик.\n",
    "Створення фіктивних змінних та видалення непотрібних:\n",
    "Ми створили фіктивні змінні для категоріальних даних, таких як сезон, місяць, день тижня, погодні умови. Це допомагає уникнути неправильного порядку категорій. Також видалили змінні date і atemp, оскільки date не є числовим атрибутом, а atemp було видалено через його кореляцію з іншими змінними та підозрювану мультиколінеарність.\n",
    "Побудова та навчання моделі лінійної регресії:\n",
    "Після підготовки даних ми розділили вибірку на навчальну та тестову, використовуючи співвідношення 70/30. Побудували модель лінійної регресії та навчили її за допомогою навчальних даних.\n",
    "Оцінка результатів показала, що модель має значну середньоквадратичну помилку (MSE) для навчальної та тестової вибірок, що може свідчити про низьку узагальнюючу здатність моделі.\n",
    "Коефіцієнт детермінації (R^2) для навчальної вибірки вказує на те, що модель пояснює лише частину дисперсії цільової змінної.\n",
    "Висновки та рекомендації:\n",
    "Потрібно додатково вивчити та врахувати інші фактори, які можуть впливати на кількість викликів швидкої допомоги на основі вибірки, такі як погодні умови, розмір населеного пункту, рівень транспортної інфраструктури та інші. Можливо, використання більш складних моделей або врахування більшої кількості факторів дозволить покращити прогнозні здатності моделі.\n",
    "\n"
   ]
  }
 ],
 "metadata": {
  "colab": {
   "name": "Task4_Regression_basicAI.ipynb",
   "provenance": []
  },
  "kernelspec": {
   "display_name": "Python 3",
   "language": "python",
   "name": "python3"
  },
  "language_info": {
   "codemirror_mode": {
    "name": "ipython",
    "version": 3
   },
   "file_extension": ".py",
   "mimetype": "text/x-python",
   "name": "python",
   "nbconvert_exporter": "python",
   "pygments_lexer": "ipython3",
   "version": "3.8.5"
  }
 },
 "nbformat": 4,
 "nbformat_minor": 4
}
