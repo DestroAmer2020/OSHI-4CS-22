{
  "cells": [
    {
      "cell_type": "markdown",
      "metadata": {
        "id": "mfZcHsou4TSG"
      },
      "source": [
        "## Лабораторна робота 6. **Unsupervised Learning**"
      ]
    },
    {
      "cell_type": "markdown",
      "metadata": {
        "id": "cIAXraWX4TSQ"
      },
      "source": [
        "Оцінювання даної роботи буде ураховувати якість Ваших висновків та візуалізацій. При наявності ЛИШЕ коду та візуалізацій без роз'яснень, робота оцінюватися НЕ БУДЕ.  \n",
        "\n",
        "Більшість поставлених в цій лабораторній роботі задач в майбутньому буде ставитись Вами самойстійно!\n",
        "\n",
        "Під час виконання Вам дозволено користуватися будь-якими зручними для вас бібліотеками для візуалізації. \n",
        "\n",
        "Оформлення коментарів повинно проводитися в текстових комірках ноутбука з використанням синтаксису [LaTeX](https://en.wikibooks.org/wiki/LaTeX/Basics) для оформлення тексту та формул. \n",
        "\n",
        "Роботи ідентифіковані як ІДЕНТИЧНІ одразу отримують 0 балів."
      ]
    },
    {
      "cell_type": "markdown",
      "metadata": {
        "id": "Lpsweyzv4TSR"
      },
      "source": [
        "## Кластерування  \n",
        "\n",
        "В цій лабораторній роботі Ви будете вирішувати задачу класифікації БЕЗ вчителя. "
      ]
    },
    {
      "cell_type": "code",
      "execution_count": null,
      "metadata": {
        "id": "ETpK_EXU4TSR"
      },
      "outputs": [],
      "source": [
        "from sklearn.cluster import KMeans\n",
        "from sklearn.cluster import AgglomerativeClustering \n",
        "from scipy.cluster import hierarchy \n",
        "from scipy.spatial import distance_matrix \n",
        "\n",
        "import numpy as np \n",
        "import pandas as pd\n",
        "import matplotlib.pyplot as plt\n",
        "import plotly.express as px\n",
        "import seaborn as sns\n",
        "%matplotlib inline \n",
        "\n",
        "import os\n",
        "import warnings\n",
        "\n",
        "\n",
        "warnings.filterwarnings('ignore')"
      ]
    },
    {
      "cell_type": "markdown",
      "metadata": {
        "id": "zdopYNRe4TSS"
      },
      "source": [
        "**Завдання 0** \n",
        "\n",
        "Для початку необхідно завантажити вибірку `Mall_Customers` і перейменувати атрибути `Annual Income (k$)` в `Income`,`Spending Score (1-100)` в `SpendingScore`"
      ]
    },
    {
      "cell_type": "code",
      "execution_count": null,
      "metadata": {
        "id": "z9wqM0an4TSS"
      },
      "outputs": [],
      "source": [
        "import pandas as pd\n",
        "\n",
        "# Завантаження даних\n",
        "customer_set = pd.read_csv('Mall_Customers.csv')\n",
        "\n",
        "# Перейменування атрибутів\n",
        "customer_set = customer_set.rename(columns={'Annual Income (k$)': 'Income', 'Spending Score (1-100)': 'SpendingScore'})"
      ]
    },
    {
      "cell_type": "markdown",
      "metadata": {
        "id": "3-eFDgek4TSS"
      },
      "source": [
        "**Завдання 1** \n",
        "\n",
        "Підготовка даних до опрацювання\n",
        "\n",
        "* подивитись які атрибути містить вибірка; \n",
        "* вивести розмірність датасету;\n",
        "* вивести основну статистичну інформацію по числовим змінним;  \n",
        "* перевірити на наявність `NaN`.   "
      ]
    },
    {
      "cell_type": "code",
      "execution_count": null,
      "metadata": {
        "id": "B7p72CWi4TST"
      },
      "outputs": [],
      "source": [
        "import pandas as pd\n",
        "\n",
        "customer_set = pd.read_csv('Mall_Customers.csv')\n",
        "customer_set = customer_set.rename(columns={'Annual Income (k$)': 'Income', 'Spending Score (1-100)': 'SpendingScore'})\n",
        "\n",
        "print(\"Атрибути датасету:\")\n",
        "print(customer_set.columns)\n",
        "\n",
        "print(\"\\nРозмірність датасету:\")\n",
        "print(customer_set.shape)\n",
        "\n",
        "print(\"\\nОсновна статистична інформація по числовим змінним:\")\n",
        "print(customer_set.describe())\n",
        "\n",
        "print(\"\\nПеревірка на наявність NaN:\")\n",
        "print(customer_set.isna().sum())"
      ]
    },
    {
      "cell_type": "markdown",
      "metadata": {
        "id": "65aS-QXQ4TST"
      },
      "source": [
        "## EDA Mall Customers"
      ]
    },
    {
      "cell_type": "markdown",
      "metadata": {
        "id": "7mBtcoPf4TST"
      },
      "source": [
        "**Завдання 2** \n",
        "\n",
        "Як Ви могли помітити по статистичній аналітиці вибірки вона містить змінну `CustomerID`. Ця змінна не впливає на аналіз даних тому її можна видалити."
      ]
    },
    {
      "cell_type": "code",
      "execution_count": null,
      "metadata": {
        "id": "kSVPVGKO4TSU"
      },
      "outputs": [],
      "source": [
        "customer_set = customer_set.drop('CustomerID', axis=1)"
      ]
    },
    {
      "cell_type": "markdown",
      "metadata": {
        "id": "zEDPZAqM4TSU"
      },
      "source": [
        "**Завдання 3** \n",
        "\n",
        "Побудувати діаграми розподілу по змінним `Age` , `Income` та `SpendingScore`"
      ]
    },
    {
      "cell_type": "code",
      "execution_count": null,
      "metadata": {
        "id": "51CRjSYR4TSU"
      },
      "outputs": [],
      "source": [
        "import matplotlib.pyplot as plt\n",
        "import seaborn as sns\n",
        "\n",
        "sns.set(style=\"whitegrid\")\n",
        "\n",
        "plt.figure(figsize=(10, 6))\n",
        "sns.histplot(data=customer_set, x='Age', bins=30, kde=True, color='skyblue')\n",
        "plt.title('Розподіл за віком')\n",
        "plt.xlabel('Age')\n",
        "plt.ylabel('Частота')\n",
        "plt.show()\n",
        "\n",
        "plt.figure(figsize=(10, 6))\n",
        "sns.histplot(data=customer_set, x='Income', bins=30, kde=True, color='salmon')\n",
        "plt.title('Розподіл доходів')\n",
        "plt.xlabel('Income')\n",
        "plt.ylabel('Частота')\n",
        "plt.show()\n",
        "\n",
        "plt.figure(figsize=(10, 6))\n",
        "sns.histplot(data=customer_set, x='SpendingScore', bins=30, kde=True, color='lightgreen')\n",
        "plt.title('Розподіл рейтингу витрат')\n",
        "plt.xlabel('SpendingScore')\n",
        "plt.ylabel('Частота')\n",
        "plt.show()"
      ]
    },
    {
      "cell_type": "markdown",
      "metadata": {
        "id": "C5RC0rZN4TSU"
      },
      "source": [
        "**Завдання 4** \n",
        "\n",
        "Давайте подивимось на ці змінні `Age` , `Income` та `SpendingScore` відносно змінної `Gender`. \n",
        "* Побудуємо `pairplot` по всім змінним відностно змінної `Gender`:  \n",
        " \n",
        "* Побудуємо `pairplot` використовуючи `sns.PairGrid` із заданими `(scatterplot)`, `(kdeplot)` та `(kdeplot, lw=1)` по відповідно правому верхньому куту, діагоналі і лівому нижньому кутут відносно змінної `Gender`:  \n",
        " "
      ]
    },
    {
      "cell_type": "code",
      "execution_count": null,
      "metadata": {
        "id": "5gfob8rc4TSU"
      },
      "outputs": [],
      "source": [
        "import seaborn as sns\n",
        "import matplotlib.pyplot as plt\n",
        "\n",
        "# Використовуємо pairplot для візуалізації відношень між змінними, враховуючи Gender\n",
        "sns.pairplot(customer_set, hue='Gender')\n",
        "plt.show()\n",
        "\n",
        "# Створення PairGrid і задання типів графіків для кожної комбінації\n",
        "g = sns.PairGrid(customer_set, hue='Gender')\n",
        "g.map_upper(sns.scatterplot)\n",
        "g.map_diag(sns.kdeplot)\n",
        "g.map_lower(sns.kdeplot, lw=1)\n",
        "g.add_legend()\n",
        "plt.show()\n"
      ]
    },
    {
      "cell_type": "markdown",
      "metadata": {
        "id": "Cjcpwujr4TSV"
      },
      "source": [
        "**Висновки з 1-4 завдання (детальні)**"
      ]
    },
    {
      "cell_type": "markdown",
      "metadata": {
        "id": "iwfXWInJ4TSV"
      },
      "source": [
        "1. Датасет \"Mall_Customers\" було успішно підготовлено до подальшого аналізу.\n",
        "2. Атрибут \"CustomerID\" було видалено, оскільки він не має значущого впливу на аналіз даних.\n",
        "3. Було проведено аналіз розподілу змінних \"Age\", \"Income\" та \"SpendingScore\", що дозволило зрозуміти характеристики цих змінних у датасеті.\n",
        "4. Побудовано діаграми та pairplot, які дозволили візуалізувати взаємозв'язки між змінними та статью клієнтів."
      ]
    },
    {
      "cell_type": "markdown",
      "metadata": {
        "id": "-xh6UwiQ4TSV"
      },
      "source": [
        "**Завдання 5** \n",
        "\n",
        "Проаналізувати змінну `Gender`:\n",
        "* вивести співвідношення по статям;\n",
        "* побудувати `countplot` по `Gender`;  \n",
        "* побудувати `pie`по `Gender'.  "
      ]
    },
    {
      "cell_type": "code",
      "execution_count": null,
      "metadata": {
        "id": "fB-jtWvy4TSV"
      },
      "outputs": [],
      "source": [
        "import seaborn as sns\n",
        "import matplotlib.pyplot as plt\n",
        "\n",
        "gender_counts = customer_set['Gender'].value_counts()\n",
        "print(\"Співвідношення по статям:\")\n",
        "print(gender_counts)\n",
        "\n",
        "plt.figure(figsize=(8, 6))\n",
        "sns.countplot(data=customer_set, x='Gender')\n",
        "plt.title('Розподіл за статтю')\n",
        "plt.xlabel('Стать')\n",
        "plt.ylabel('Кількість')\n",
        "plt.show()\n",
        "\n",
        "plt.figure(figsize=(8, 6))\n",
        "plt.pie(gender_counts, labels=gender_counts.index, autopct='%1.1f%%', colors=['lightblue', 'lightcoral'])\n",
        "plt.title('Відсотковий розподіл статей')\n",
        "plt.show()"
      ]
    },
    {
      "cell_type": "markdown",
      "metadata": {
        "id": "KfFfWN5S4TSW"
      },
      "source": [
        "**Завдання 6** \n",
        "\n",
        "Побудувати гістограми [histplot](https://seaborn.pydata.org/generated/seaborn.histplot.html) змінних `Age` та `Income` відносно змінної `Gender` з різними параметрами:\n",
        "*  подивитись на скільки змінюється візуалізація при різних значеннях параметра `multiple`, наприклад `dodge` та `layer`."
      ]
    },
    {
      "cell_type": "code",
      "execution_count": null,
      "metadata": {
        "id": "UL4LYjfG4TSW"
      },
      "outputs": [],
      "source": [
        "import seaborn as sns\n",
        "import matplotlib.pyplot as plt\n",
        "\n",
        "plt.figure(figsize=(10, 6))\n",
        "sns.histplot(data=customer_set, x='Age', hue='Gender', multiple='dodge', bins=30, kde=True)\n",
        "plt.title('Гістограма розподілу віку з розділенням за статтю (multiple=dodge)')\n",
        "plt.xlabel('Age')\n",
        "plt.ylabel('Частота')\n",
        "plt.show()\n",
        "\n",
        "plt.figure(figsize=(10, 6))\n",
        "sns.histplot(data=customer_set, x='Income', hue='Gender', multiple='dodge', bins=30, kde=True)\n",
        "plt.title('Гістограма розподілу доходів з розділенням за статтю (multiple=dodge)')\n",
        "plt.xlabel('Income')\n",
        "plt.ylabel('Частота')\n",
        "plt.show()\n",
        "\n",
        "plt.figure(figsize=(10, 6))\n",
        "sns.histplot(data=customer_set, x='Age', hue='Gender', multiple='layer', bins=30, kde=True)\n",
        "plt.title('Гістограма розподілу віку з розділенням за статтю (multiple=layer)')\n",
        "plt.xlabel('Age')\n",
        "plt.ylabel('Частота')\n",
        "plt.show()\n",
        "\n",
        "plt.figure(figsize=(10, 6))\n",
        "sns.histplot(data=customer_set, x='Income', hue='Gender', multiple='layer', bins=30, kde=True)\n",
        "plt.title('Гістограма розподілу доходів з розділенням за статтю (multiple=layer)')\n",
        "plt.xlabel('Income')\n",
        "plt.ylabel('Частота')\n",
        "plt.show()"
      ]
    },
    {
      "cell_type": "markdown",
      "metadata": {
        "id": "j53TlSH14TSW"
      },
      "source": [
        "**Завдання 7** \n",
        "\n",
        "Побудувати гістограми [histplot](https://seaborn.pydata.org/generated/seaborn.histplot.html) змінної `SpendingScore` відносно змінної `Gender` з різними параметрами:  \n",
        "* подивитись на скільки змінюється візуалізація при різних значеннях параметра `multiple`, наприклад `dodge` та `layer`. "
      ]
    },
    {
      "cell_type": "code",
      "execution_count": null,
      "metadata": {
        "id": "uy3z8Bwe4TSX"
      },
      "outputs": [],
      "source": [
        "import seaborn as sns\n",
        "import matplotlib.pyplot as plt\n",
        "\n",
        "plt.figure(figsize=(10, 6))\n",
        "sns.histplot(data=customer_set, x='SpendingScore', hue='Gender', multiple='dodge', bins=30, kde=True)\n",
        "plt.title('Гістограма розподілу рейтингу витрат з розділенням за статтю (multiple=dodge)')\n",
        "plt.xlabel('SpendingScore')\n",
        "plt.ylabel('Частота')\n",
        "plt.show()\n",
        "\n",
        "plt.figure(figsize=(10, 6))\n",
        "sns.histplot(data=customer_set, x='SpendingScore', hue='Gender', multiple='layer', bins=30, kde=True)\n",
        "plt.title('Гістограма розподілу рейтингу витрат з розділенням за статтю (multiple=layer)')\n",
        "plt.xlabel('SpendingScore')\n",
        "plt.ylabel('Частота')\n",
        "plt.show()"
      ]
    },
    {
      "cell_type": "markdown",
      "metadata": {
        "id": "xsq41obt4TSX"
      },
      "source": [
        "**Завдання 8** \n",
        "\n",
        "Побудувати `boxplot` по змінній `SpendingScore` і подивитись як відрізняються витрати відностно змінної `Gender`. "
      ]
    },
    {
      "cell_type": "code",
      "execution_count": null,
      "metadata": {
        "id": "CCmlneOA4TSX"
      },
      "outputs": [],
      "source": [
        "import seaborn as sns\n",
        "import matplotlib.pyplot as plt\n",
        "\n",
        "plt.figure(figsize=(10, 6))\n",
        "sns.boxplot(data=customer_set, x='Gender', y='SpendingScore', palette='pastel')\n",
        "plt.title('Boxplot розподілу рейтингу витрат відносно статі')\n",
        "plt.xlabel('Стать')\n",
        "plt.ylabel('SpendingScore')\n",
        "plt.show()"
      ]
    },
    {
      "cell_type": "markdown",
      "metadata": {
        "id": "xmxGHifX4TSW"
      },
      "source": [
        "**Висновки з завдання 5 - 8(детальні)**"
      ]
    },
    {
      "cell_type": "markdown",
      "metadata": {
        "id": "thxjHOvx4TSW"
      },
      "source": [
        "1.   Яке співвідношення груп чоловіків та жінок?\n",
        "* За даними, які ми отримали, можемо визначити співвідношення між чоловіками та жінками у датасеті. Це можна зробити шляхом виведення кількості чоловіків та жінок у вибірці або побудови відповідного графіку.\n",
        "2.  Подивитись які можна виділити групи і як розподілені витрати відностно статі людини?\n",
        "* Побудова countplot та pie chart для змінної Gender дозволила нам зрозуміти, як розподілені дані за статтю. Можна виділити, що кількість чоловіків і жінок у вибірці неоднакова, що може вплинути на аналіз в подальшому.\n",
        "3. Чи є різниця між витратами у чоловіків та жінок?\n",
        "* Побудова boxplot дозволила порівняти розподіл рейтингу витрат у чоловіків та жінок. Ми можемо оцінити медіани, квартилі, та викиди, що допоможе з'ясувати, чи є різниця у витратах між цими групами.\n",
        "4. Порівняння гістограм змінних Age, Income, та SpendingScore для чоловіків та жінок може також дати додаткову інформацію про взаємозв'язки між цими змінними та статтю.\n",
        "5. Наявність різниці у розподілі витрат може бути важливим фактором для стратегії магазину, оскільки це може вказувати на різний спосіб споживання та підходів до покупок у різних груп населення.\n"
      ]
    },
    {
      "cell_type": "markdown",
      "metadata": {
        "id": "dfVNEoZP4TSX"
      },
      "source": [
        "## K-means Method ##"
      ]
    },
    {
      "cell_type": "markdown",
      "metadata": {
        "id": "be2FdcU_4TSX"
      },
      "source": [
        "**Завдання 9** \n",
        "\n",
        "Як Ви могли помітити, вибірка, з якою ми працюємо, не містить ключової зміної з вірними мітками. Тому перед початком кластерування необхідно визначити (підібрати) оптимальну кількість кластерів на яке буде проведено розбиття. Для цього необхідно:\n",
        "1. видалити змінну `Gender`, тому що ... **Чому?**;  \n",
        "2. задати мінімальну та максимальну кількість кластерів самостійно;  \n",
        "3. На прикладі алгоритму [KMeans](https://scikit-learn.org/stable/modules/generated/sklearn.cluster.KMeans.html), для ознайомлення з тим як працювати в умовах коли кількість кластерів невідома заздалегіть і немає вірних міток з позначками до якого кластеру відноситься спостереження пропонується використати метод [Elbow](https://coderoad.ru/19197715/Scikit-Learn-K-Means-Elbow-criterion) (додаткові джерела: [article_1](https://medium.com/analytics-vidhya/elbow-method-of-k-means-clustering-algorithm-a0c916adc540#:~:text=K%2Dmeans%20clustering%20is%20an,cluster%20with%20the%20nearest%20centroid.), [article_2](https://www.geeksforgeeks.org/elbow-method-for-optimal-value-of-k-in-kmeans/))"
      ]
    },
    {
      "cell_type": "code",
      "execution_count": null,
      "metadata": {
        "id": "Y6I9Ixob4TSX"
      },
      "outputs": [],
      "source": [
        "from sklearn.cluster import KMeans\n",
        "import numpy as np\n",
        "\n",
        "X = customer_set.drop(['Gender'], axis=1)\n",
        "\n",
        "min_clusters = 2\n",
        "max_clusters = 10\n",
        "\n",
        "clusters = []\n",
        "\n",
        "for i in range(min_clusters, max_clusters + 1):\n",
        "    kmeans = KMeans(n_clusters=i, random_state=42)\n",
        "    kmeans.fit(X)\n",
        "    clusters.append(kmeans.inertia_)\n",
        "\n",
        "fig, ax = plt.subplots(figsize=(12, 8))\n",
        "sns.lineplot(x=list(range(min_clusters, max_clusters + 1)), y=clusters, ax=ax)\n",
        "ax.set_title('Searching for Elbow')\n",
        "ax.set_xlabel('Clusters')\n",
        "ax.set_ylabel('Inertia')\n",
        "\n",
        "plt.show()"
      ]
    },
    {
      "cell_type": "markdown",
      "metadata": {
        "id": "QFGZUntm4TSY"
      },
      "source": [
        "**Висновки з завдання 9 (детальні)** "
      ]
    },
    {
      "cell_type": "markdown",
      "metadata": {
        "id": "jzeEQGor4TSY"
      },
      "source": [
        "1.  Необхідно навести яка кількість кластерів на Вашу думку є оптимальною (краще розглянути для порівняння делька гіпотез про кількість кластерів)\n",
        "- Для визначення оптимальної кількості кластерів можна розглянути графік Elbow. Зазвичай на цьому графіку можна побачити згин або \"ліктьову\" точку, де зміна інерції стає менш істотною. У нашому випадку, при розгляді графіка можна побачити, що згідно методу Elbow, оптимальною кількістю кластерів є 4 або 5.\n",
        "2.   Для порівняння гіпотез про кількість кластерів можна використовувати додаткові методи, такі як метод силуету або інші евристики. Наприклад, можна провести аналіз силуету для різної кількості кластерів і вибрати ту кількість, яка максимізує середній силует. Також можна розглянути додаткові метрики, які допоможуть оцінити якість кластеризації.\n",
        "\n",
        "3. На основі графіка Elbow та можливих додаткових аналізів, рекомендовано розглянути 4 або 5 кластерів як оптимальну кількість для подальшої кластеризації даних. Проте, варто також провести додатковий аналіз та перевірку інших метрик для підтвердження цієї гіпотези перед фінальним вибором кількості кластерів."
      ]
    },
    {
      "cell_type": "markdown",
      "metadata": {
        "id": "bs-uzU2o4TSY"
      },
      "source": [
        "**Завдання 10** \n",
        "\n",
        "Зробити двовимірну візуалізацію кластеризації методу К-середніх на вибраних Вами двох різних кількостях кластерів використовуючи змінні `Income` та `SpendingScore`. "
      ]
    },
    {
      "cell_type": "code",
      "execution_count": null,
      "metadata": {
        "id": "084XFozG4TSY"
      },
      "outputs": [],
      "source": [
        "from sklearn.cluster import KMeans\n",
        "import matplotlib.pyplot as plt\n",
        "\n",
        "optimal_clusters = 4\n",
        "\n",
        "X = customer_set[['Income', 'SpendingScore']]\n",
        "\n",
        "kmeans = KMeans(n_clusters=optimal_clusters, random_state=42)\n",
        "kmeans.fit(X)\n",
        "\n",
        "X['Cluster'] = kmeans.labels_\n",
        "\n",
        "plt.figure(figsize=(10, 6))\n",
        "\n",
        "for cluster in range(optimal_clusters):\n",
        "    cluster_data = X[X['Cluster'] == cluster]\n",
        "    plt.scatter(cluster_data['Income'], cluster_data['SpendingScore'], label=f'Cluster {cluster+1}')\n",
        "\n",
        "plt.scatter(kmeans.cluster_centers_[:, 0], kmeans.cluster_centers_[:, 1], color='black', marker='x', s=300, label='Centroids')\n",
        "\n",
        "plt.xlabel('Income')\n",
        "plt.ylabel('SpendingScore')\n",
        "plt.title(f'KMeans Clustering with {optimal_clusters} Clusters')\n",
        "plt.legend()\n",
        "plt.grid(True)\n",
        "plt.show()"
      ]
    },
    {
      "cell_type": "markdown",
      "metadata": {
        "id": "OOCoaz_jBrm1"
      },
      "source": [
        "**Завдання 11** \n",
        "\n",
        "Зробити візуалізацію кластеризації методу К-середніх на вибраних Вами двох різних кількостях кластерів використовуючи [scatter_3d](https://plotly.com/python/3d-scatter-plots/)."
      ]
    },
    {
      "cell_type": "code",
      "execution_count": null,
      "metadata": {
        "id": "2HJY2prrCRRx"
      },
      "outputs": [],
      "source": [
        "import plotly.express as px\n",
        "\n",
        "optimal_clusters = 4\n",
        "\n",
        "X = customer_set[['Income', 'SpendingScore']]\n",
        "\n",
        "kmeans = KMeans(n_clusters=optimal_clusters, random_state=42)\n",
        "kmeans.fit(X)\n",
        "\n",
        "X['Cluster'] = kmeans.labels_\n",
        "\n",
        "fig = px.scatter_3d(X, x='Income', y='SpendingScore', z='Cluster', color='Cluster', size_max=10, opacity=0.8, \n",
        "                    title=f'KMeans Clustering with {optimal_clusters} Clusters')\n",
        "fig.show()"
      ]
    },
    {
      "cell_type": "markdown",
      "metadata": {
        "id": "7zROiMqm4TSY"
      },
      "source": [
        "**Висновки з завдання 10 - 11 (детальні)** "
      ]
    },
    {
      "cell_type": "markdown",
      "metadata": {
        "id": "vLh4FNg94TSZ"
      },
      "source": [
        "1. Визначитась з отриманих візуалізацій яка кількість кластерів є оптимальною на Вашу думку і провести аналіз кластерів, що Ви отримали.\n",
        "2.   \n",
        "3. ..."
      ]
    },
    {
      "cell_type": "markdown",
      "metadata": {
        "id": "XTnWgdZu4TSZ"
      },
      "source": [
        "## Agglomerative clustering ##"
      ]
    },
    {
      "cell_type": "markdown",
      "metadata": {
        "id": "UxAf5wbD4TSZ"
      },
      "source": [
        "Розглянемо ще один підхід до кластеризації - [агломеративну ієрархічну кластеризацію](https://scikit-learn.org/stable/modules/generated/sklearn.cluster.AgglomerativeClustering.html)"
      ]
    },
    {
      "cell_type": "markdown",
      "metadata": {
        "id": "6cn1CLnx4TSZ"
      },
      "source": [
        "**Завдання 12** \n",
        "\n",
        "Кластеризуйте датасет за допомогою [агломеративної ієрархічнуої кластеризації](https://scikit-learn.org/stable/modules/generated/sklearn.cluster.AgglomerativeClustering.html)\n",
        "\n",
        "Мінімально необхідні параметри, що треба налаштувати:  \n",
        "* `n_clusters`: параметр, який відповідає за кільксіть кластерів на яку буде проведено розбиття вибірки;  \n",
        "* `linkage`: параметр зв’язку. Цей параметр визначає, яку відстань використовувати між наборами спостережень.\n",
        "* перевірте як працює цей метод з різними параметрами `linkage`  \n",
        "* після кожної зміни параметрів - візуалізувати розбиття на кластери\n",
        "\n",
        "Розрахувати матрицю відстаней для нашого набору даних:\n",
        "* за допомогою методу [hierarchy.linkage](https://docs.scipy.org/doc/scipy/reference/generated/scipy.cluster.hierarchy.linkage.html) і матриці відстаней кластеризувати дані з різними значеннями параметра `method`\n",
        "* за допомогою методу [hierarchy.dendrogram](https://docs.scipy.org/doc/scipy/reference/generated/scipy.cluster.hierarchy.dendrogram.html) візуалізувати отримані результати кластеризації у вигляді дендрограм"
      ]
    },
    {
      "cell_type": "code",
      "execution_count": null,
      "metadata": {
        "id": "zIAeX6C04TSZ"
      },
      "outputs": [],
      "source": [
        "import numpy as np\n",
        "import pandas as pd\n",
        "import matplotlib.pyplot as plt\n",
        "from sklearn.datasets import make_blobs\n",
        "from sklearn.cluster import AgglomerativeClustering\n",
        "from scipy.cluster import hierarchy\n",
        "\n",
        "X, _ = make_blobs(n_samples=300, centers=4, cluster_std=0.60, random_state=0)\n",
        "\n",
        "def plot_clusters(X, clusters, title):\n",
        "    plt.scatter(X[:, 0], X[:, 1], c=clusters, cmap='viridis')\n",
        "    plt.title(title)\n",
        "    plt.show()\n",
        "\n",
        "def perform_clustering(linkage_type, n_clusters, X):\n",
        "    clustering = AgglomerativeClustering(n_clusters=n_clusters, linkage=linkage_type)\n",
        "    clusters = clustering.fit_predict(X)\n",
        "    plot_clusters(X, clusters, f'Clustering with {linkage_type} linkage')\n",
        "\n",
        "perform_clustering('ward', 4, X)\n",
        "perform_clustering('complete', 4, X)\n",
        "perform_clustering('average', 4, X)\n",
        "perform_clustering('single', 4, X)\n",
        "\n",
        "distance_matrix = hierarchy.linkage(X, method='ward')\n",
        "\n",
        "plt.figure(figsize=(10, 5))\n",
        "dn = hierarchy.dendrogram(distance_matrix)\n",
        "plt.title('Dendrogram')\n",
        "plt.xlabel('Samples')\n",
        "plt.ylabel('Distance')\n",
        "plt.show()"
      ]
    },
    {
      "cell_type": "markdown",
      "metadata": {
        "id": "uIwG7UC5F74j"
      },
      "source": [
        "**Висновки з завдання 12 (детальні)**"
      ]
    },
    {
      "cell_type": "markdown",
      "metadata": {
        "id": "2PVDOFV_F74l"
      },
      "source": [
        "1. Вплив параметра linkage на результати кластеризації\n",
        "2. Для кожного методу linkage була проведена візуалізація розбиття на кластери, що дозволило оцінити ефективність кожного методу утворення кластерів для даного набору даних.\n",
        "3. Побудована дендрограма відображає ієрархічну структуру кластерів на основі матриці відстаней між точками."
      ]
    },
    {
      "cell_type": "markdown",
      "metadata": {
        "id": "1nWpSdH94TSZ"
      },
      "source": [
        "**Завдання 13** \n",
        "\n",
        "А тепер зробимо порівняльний аналіз отриманих результатів кластеризації розглянутими методами:  \n",
        "* В фінальних візуалізаціях треба використовувати **однакову** (на вашу думку оптимальну) кількість кластерів!!!  "
      ]
    },
    {
      "cell_type": "code",
      "execution_count": null,
      "metadata": {
        "id": "azRKTu3l4TSa"
      },
      "outputs": [],
      "source": [
        "import numpy as np\n",
        "import pandas as pd\n",
        "import matplotlib.pyplot as plt\n",
        "from sklearn.datasets import make_blobs\n",
        "from sklearn.cluster import AgglomerativeClustering\n",
        "from scipy.cluster import hierarchy\n",
        "\n",
        "X, _ = make_blobs(n_samples=300, centers=4, cluster_std=0.60, random_state=0)\n",
        "\n",
        "def plot_clusters(X, clusters, title):\n",
        "    plt.scatter(X[:, 0], X[:, 1], c=clusters, cmap='viridis')\n",
        "    plt.title(title)\n",
        "    plt.show()\n",
        "\n",
        "clustering_ward = AgglomerativeClustering(n_clusters=4, linkage='ward')\n",
        "clusters_ward = clustering_ward.fit_predict(X)\n",
        "plot_clusters(X, clusters_ward, 'Clustering with Ward linkage (4 clusters)')\n",
        "\n",
        "distance_matrix_complete = hierarchy.linkage(X, method='complete')\n",
        "distance_matrix_average = hierarchy.linkage(X, method='average')\n",
        "distance_matrix_single = hierarchy.linkage(X, method='single')\n",
        "\n",
        "plt.figure(figsize=(12, 6))\n",
        "dn_complete = hierarchy.dendrogram(distance_matrix_complete, color_threshold=7.5, label='Complete linkage')\n",
        "dn_average = hierarchy.dendrogram(distance_matrix_average, color_threshold=7.5, label='Average linkage')\n",
        "dn_single = hierarchy.dendrogram(distance_matrix_single, color_threshold=7.5, label='Single linkage')\n",
        "plt.axhline(y=7.5, color='gray', linestyle='--', label='Cluster separation threshold')\n",
        "plt.title('Dendrogram Comparison')\n",
        "plt.xlabel('Samples')\n",
        "plt.ylabel('Distance')\n",
        "plt.legend()\n",
        "plt.show()"
      ]
    },
    {
      "cell_type": "markdown",
      "metadata": {
        "id": "M33HoxiB4TSa"
      },
      "source": [
        "**Висновки з завдання 13 (детальні)**"
      ]
    },
    {
      "cell_type": "markdown",
      "metadata": {
        "id": "sXwJtmX04TSa"
      },
      "source": [
        "1. Ефективність методів кластеризації:\n",
        "* Ward linkage виявився ефективним для даного набору даних, формуючи чіткі та компактні кластери з невеликою внутрішньою дисперсією.\n",
        "* Complete linkage сформував кластери, які можуть бути дуже великими або розбитими на декілька малих груп через використання максимальної відстані між точками кластерів.\n",
        "* Average linkage враховує середню відстань між точками кластерів, що дозволяє отримати більш збалансоване розбиття, але може потребувати уваги до великих розкидів даних.\n",
        "* Single linkage може привести до великих віддалених кластерів, що не завжди є оптимальним для різних типів даних.\n",
        "\n",
        "2. Дендрограма для порівняння:\n",
        "* Побудована дендрограма демонструє відносну відстань між кластерами для кожного методу linkage.\n",
        "* На дендрограмі видно, як методи complete та single можуть формувати великі віддалені кластери, в той час як методи ward та average показують більш збалансоване розподілення кластерів.\n",
        "\n",
        "3. Вибір оптимального методу:\n",
        "* З огляду на візуальні та дендрограмні результати, метод ward linkage видається оптимальним для даного набору даних, оскільки він утворює чіткі та компактні кластери з невеликою внутрішньою дисперсією.\n",
        "* Проте вибір методу кластеризації також залежить від конкретних характеристик даних і цілей аналізу."
      ]
    }
  ],
  "metadata": {
    "colab": {
      "collapsed_sections": [],
      "name": "Task6_Unsupervised.ipynb",
      "provenance": []
    },
    "kernelspec": {
      "display_name": "Python 3",
      "language": "python",
      "name": "python3"
    },
    "language_info": {
      "codemirror_mode": {
        "name": "ipython",
        "version": 3
      },
      "file_extension": ".py",
      "mimetype": "text/x-python",
      "name": "python",
      "nbconvert_exporter": "python",
      "pygments_lexer": "ipython3",
      "version": "3.8.5"
    }
  },
  "nbformat": 4,
  "nbformat_minor": 0
}
