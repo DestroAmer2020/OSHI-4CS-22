{
 "cells": [
  {
   "cell_type": "markdown",
   "metadata": {
    "id": "4Ipf3BFynE7z"
   },
   "source": [
    "## Лабораторна робота №3.\n",
    "***Data Pre-Processing***"
   ]
  },
  {
   "cell_type": "markdown",
   "metadata": {
    "id": "ICZ-L0GmwsCQ"
   },
   "source": [
    "Оцінювання даної роботи буде ураховувати якість ваших візуалізацій (вони можуть незначно відрізнятися від прикладів, але повинні змістовно відображати суть задачі) та опис отриманих вами результатів. При наявності ЛИШЕ візуалізацій без роз'яснень, робота оцінюватися НЕ БУДЕ.\n",
    "\n",
    "Під час виконання вам дозволено користуватися будь-якими зручними для вас бібліотеками для візуалізації. \n",
    "\n",
    "Роботи ідентифіковані як ІДЕНТИЧНІ одразу отримують 0 балів."
   ]
  },
  {
   "cell_type": "markdown",
   "metadata": {
    "id": "VobPhchjwsCQ"
   },
   "source": [
    "Для виконання цієї лабораторної роботи Вам необхідно скористатися вибіркою [titanic.csv](https://gist.github.com/michhar/2dfd2de0d4f8727f873422c5d959fff5).  \n",
    "Цей датасет ви вже використовували в лабораторній роботі №1 ;)  \n",
    "  \n",
    "  ```NB:побудовані графіки та гістограми мають бути змістовними і візуально зрозумілими.``` "
   ]
  },
  {
   "cell_type": "code",
   "execution_count": null,
   "metadata": {
    "id": "e_VyzaXuwsCR"
   },
   "outputs": [],
   "source": [
    "import numpy as np\n",
    "import pandas as pd\n",
    "import matplotlib.pyplot as plt\n",
    "import seaborn as sns\n",
    "\n",
    "sns.set(style=\"whitegrid\")\n",
    "sns.set_context('talk')"
   ]
  },
  {
   "cell_type": "markdown",
   "metadata": {
    "id": "hgzSHX63wsCR"
   },
   "source": [
    "***Завдання 1.*** Перед початком роботи з будь яким датасетом, необхідно:  \n",
    "- завантажити датасет;  \n",
    "- вивести основну статистичну інформацію по числовим змінним;\n",
    "- вивести розмірність датасету;\n",
    "- перевірити типи змінних і кількість данних по кожній змінній."
   ]
  },
  {
   "cell_type": "code",
   "execution_count": null,
   "metadata": {},
   "outputs": [],
   "source": [
    "import pandas as pd\n",
    "\n",
    "# Завантаження датасету з Excel-файлу\n",
    "excel_file = 'titanic.csv'\n",
    "df = pd.read_excel(excel_file)\n",
    "\n",
    "# Вивід основної статистичної інформації по числовим змінним\n",
    "numeric_stats = df.describe()\n",
    "print(\"Основна статистична інформація по числовим змінним:\")\n",
    "print(numeric_stats)\n",
    "\n",
    "# Вивід розмірності датасету\n",
    "shape = df.shape\n",
    "print(\"\\nРозмірність датасету:\")\n",
    "print(shape)\n",
    "\n",
    "# Перевірка типів змінних і кількість даних по кожній змінній\n",
    "data_types = df.dtypes\n",
    "data_count = df.count()\n",
    "print(\"\\nТипи змінних та кількість даних по кожній змінній:\")\n",
    "print(pd.DataFrame({'Data Type': data_types, 'Count': data_count}))\n"
   ]
  },
  {
   "cell_type": "markdown",
   "metadata": {
    "id": "mYji7E9OnE7_"
   },
   "source": [
    "***Завдання 2.*** Визначити кількість пропущених значень по кожному атрибуту"
   ]
  },
  {
   "cell_type": "code",
   "execution_count": null,
   "metadata": {},
   "outputs": [],
   "source": [
    "import pandas as pd\n",
    "\n",
    "# Завантаження датасету з Excel-файлу\n",
    "excel_file = 'titanic.csv'\n",
    "df = pd.read_excel(excel_file)\n",
    "\n",
    "# Визначення кількості пропущених значень по кожному атрибуту\n",
    "missing_values = df.isnull().sum()\n",
    "print(\"Кількість пропущених значень по кожному атрибуту:\")\n",
    "print(missing_values)\n",
    "\n",
    "# Висновки\n",
    "print(\"\\nВисновки:\")\n",
    "print(\"1. Найбільше пропущених значень у стовпцях:\")\n",
    "print(missing_values[missing_values > 0].sort_values(ascending=False))\n",
    "print(\"\\n2. Усі атрибути мають хоча б одне пропущене значення:\", df.isnull().any().any())\n"
   ]
  },
  {
   "cell_type": "markdown",
   "metadata": {},
   "source": [
    "Ваші висновки:Цей код визначить кількість пропущених значень по кожному атрибуту у вашому датасеті та надасть деякі висновки:\n",
    "\n",
    "Він виведе кількість пропущених значень по кожному атрибуту.\n",
    "Далі виведуться найбільш пропущені значення у стовпцях, якщо такі є.\n",
    "Нарешті, виведеться висновок про те, чи є хоча б одне пропущене значення у вашому датасеті."
   ]
  },
  {
   "cell_type": "markdown",
   "metadata": {
    "id": "twyShYEfnE8A"
   },
   "source": [
    "***Завдання 3:*** Побудувати матрицю кореляції "
   ]
  },
  {
   "cell_type": "markdown",
   "metadata": {
    "id": "QpUseKHooUGz"
   },
   "source": [
    "\n",
    "\n",
    "1.   Вирахувати кореляційні коефіціенти для набору данних за методом Пірсона\n",
    "2.   Відобразити отриману матрицю коефіціентів у вигляді теплокарти\n",
    "\n",
    "3. Описати отримані результати, спираючись на значення коефіціентів кореляції\n",
    "\n"
   ]
  },
  {
   "cell_type": "code",
   "execution_count": 1,
   "metadata": {},
   "outputs": [],
   "source": [
    "import pandas as pd\n",
    "import seaborn as sns\n",
    "import matplotlib.pyplot as plt\n",
    "\n",
    "# Завантаження датасету з CSV-файлу\n",
    "csv_file = 'titanic.csv'\n",
    "df = pd.read_csv(csv_file)\n",
    "\n",
    "# Вирахування матриці кореляції за методом Пірсона\n",
    "correlation_matrix = df.corr(method='pearson')\n",
    "\n",
    "# Відображення теплокарти з матрицею кореляції\n",
    "plt.figure(figsize=(10, 8))\n",
    "sns.heatmap(correlation_matrix, annot=True, cmap='coolwarm', fmt=\".2f\")\n",
    "plt.title('Матриця кореляції')\n",
    "plt.show()"
   ]
  },
  {
   "cell_type": "markdown",
   "metadata": {},
   "source": [
    "Ваші висновки:1. Матриця кореляції дозволяє зрозуміти взаємозв'язки між різними атрибутами датасету.\n",
    "2. Значення кореляційних коефіціентів близькі до 1 або -1 вказують на сильну лінійну залежність між змінними.\n",
    "3. Коефіцієнти близькі до 0 свідчать про відсутність лінійної залежності між змінними або про слабку залежність.\n",
    "4. Для додаткового аналізу рекомендується враховувати не тільки кореляційні коефіціенти, а й контекст даних та доменні знання.\n"
   ]
  },
  {
   "cell_type": "markdown",
   "metadata": {
    "id": "YyYa2kFGqolN"
   },
   "source": [
    "**Завдання 4:** Як ви могли помітити, у нашому датесеті досить багато пропущених значень, зокрема у атрибута віку пасажирів. Робота з такими даними впливае як на результат моделювання так і на загалом уявлення цілісної картини про дані. Тож для того, що позбавитися пропусків ми використаємо заповнення пропущених значень медіаною за групами.\n",
    "\n",
    "\n",
    "\n",
    "1.   Напишіть функцію, що на вхід приймає датафрейм, назву колонки з пропущеними значеннями та список групуючих колонок та повертає датафрейм з заповненими пропущеними значеннями\n",
    "2.   Наведіть приклад роботи функції та зробіть перевірку на пропущені значення (дивись **завдання 2**)\n",
    "\n"
   ]
  },
  {
   "cell_type": "code",
   "execution_count": 2,
   "metadata": {},
   "outputs": [],
   "source": [
    "import pandas as pd\n",
    "\n",
    "def fill_missing_values_by_group(df, column_name, groupby_columns):\n",
    "    \"\"\"Заповнює пропущені значення в колонці датафрейму за групами медіаною.\"\"\"\n",
    "    df[column_name] = df.groupby(groupby_columns)[column_name].transform(lambda x: x.fillna(x.median()))\n",
    "    return df\n",
    "\n",
    "# Завантаження датасету з CSV-файлу \n",
    "df = pd.read_csv('titanic.csv')\n",
    "\n",
    "# Виклик функції для заповнення пропущених значень в колонці 'Age' за групою 'Sex'\n",
    "df_filled = fill_missing_values_by_group(df, 'Age', ['Sex'])\n",
    "\n",
    "# Перевірка на пропущені значення\n",
    "missing_values_after_fill = df_filled.isnull().sum()\n",
    "print(\"Кількість пропущених значень після заповнення:\")\n",
    "print(missing_values_after_fill)\n"
   ]
  },
  {
   "cell_type": "markdown",
   "metadata": {},
   "source": [
    "Ваші висновки:"
   ]
  },
  {
   "cell_type": "markdown",
   "metadata": {
    "id": "XEQ5bESqnE8D"
   },
   "source": [
    " \n",
    "***Завдання 5:*** В моделях машинного навчання інснує велика проблема опрацювання безперервних змінних. Потрібно перетворити безперервні значення в категоріальні. \n",
    "\n",
    "Максимальний вік пасажира - ```80 років```.\n",
    "\n",
    "Отже, давайте розділимо діапазон від ```0 до 80``` на ```5``` осередків. \n",
    "\n",
    "\n",
    "Додайте до нашого датасету нову колонку ```Age_bin```, в якій будуть значення ```0, 1, 2, 3, 4```відповідно кожній віковій групі.\n",
    "\n",
    "Побудуйте графік, який відображає кількість виживших у кожній віковій категорії.\n",
    "\n",
    "\n",
    "\n"
   ]
  },
  {
   "cell_type": "code",
   "execution_count": 3,
   "metadata": {},
   "outputs": [],
   "source": [
    "import pandas as pd\n",
    "import matplotlib.pyplot as plt\n",
    "import seaborn as sns\n",
    "\n",
    "# Завантаження датасету з CSV-файлу \n",
    "df = pd.read_csv('titanic.csv')\n",
    "\n",
    "# Розділення діапазону від 0 до 80 на 5 осередків та додавання нової колонки 'Age_bin'\n",
    "df['Age_bin'] = pd.cut(df['Age'], bins=[0, 16, 32, 48, 64, 80], labels=[0, 1, 2, 3, 4], right=False)\n",
    "\n",
    "# Побудова графіка кількості виживших у кожній віковій категорії\n",
    "plt.figure(figsize=(10, 6))\n",
    "sns.countplot(x='Age_bin', hue='Survived', data=df)\n",
    "plt.title('Кількість виживших у кожній віковій категорії')\n",
    "plt.xlabel('Вікова категорія')\n",
    "plt.ylabel('Кількість')\n",
    "plt.legend(title='Survived', loc='upper right')\n",
    "plt.show()\n"
   ]
  },
  {
   "cell_type": "markdown",
   "metadata": {},
   "source": [
    "Ваші висновки:Цей код розділить вік пасажирів на 5 осередків від 0 до 80 років та створить нову колонку \"Age_bin\", де кожній віковій групі буде відповідати значення 0, 1, 2, 3 або 4. Потім код побудує графік, що відображає кількість виживших у кожній віковій категорії."
   ]
  },
  {
   "cell_type": "markdown",
   "metadata": {
    "id": "XMFZCUssnE8E"
   },
   "source": [
    "***Завдання 6:*** Так як змінна ```fare``` також є неперервною її треба закодувати до ```порядкової шкали``` \n",
    "Для цього скоритайтесь функцією ```pandas.qcut```.\n",
    "[pandas.qcut](https://pandas.pydata.org/pandas-docs/stable/reference/api/pandas.qcut.html)  \n",
    "- необхідно перевірити, чи є вірною гіпотеза про те, що кількість виживших пасажирів для квартильних значеннь змінної ```fare``` відрізняється, та чи доцільно використовувати кодування на цю змінну(для подальшої роботи з закодованою фичею)"
   ]
  },
  {
   "cell_type": "code",
   "execution_count": 4,
   "metadata": {},
   "outputs": [],
   "source": [
    "import pandas as pd\n",
    "import matplotlib.pyplot as plt\n",
    "import seaborn as sns\n",
    "\n",
    "# Завантаження датасету з CSV-файлу \n",
    "df = pd.read_csv('titanic.csv')\n",
    "\n",
    "# Кодування змінної 'fare' до порядкової шкали за допомогою квартильних значень\n",
    "df['Fare_bin'] = pd.qcut(df['Fare'], q=4, labels=['Q1', 'Q2', 'Q3', 'Q4'])\n",
    "\n",
    "# Побудова графіка кількості виживших у кожній квартильній групі 'fare'\n",
    "plt.figure(figsize=(10, 6))\n",
    "sns.countplot(x='Fare_bin', hue='Survived', data=df)\n",
    "plt.title('Кількість виживших у кожній квартильній групі fare')\n",
    "plt.xlabel('Квартильна група')\n",
    "plt.ylabel('Кількість')\n",
    "plt.legend(title='Survived', loc='upper right')\n",
    "plt.show()\n"
   ]
  },
  {
   "cell_type": "markdown",
   "metadata": {},
   "source": [
    "Ваші висновки:Цей код кодує змінну fare до порядкової шкали за допомогою квартильних значень, а потім побудовує графік, що відображає кількість виживших у кожній квартильній групі fare. Такий аналіз допоможе визначити, чи є зв'язок між квартильними значеннями змінної fare і кількістю виживших пасажирів, і чи є доцільним використовувати кодування для цієї змінної у подальшій роботі."
   ]
  },
  {
   "cell_type": "markdown",
   "metadata": {
    "id": "ReaEkYnbnE8F"
   },
   "source": [
    "***Завдання 7:*** Необхідно створити нові змінні ```Family_size``` та ```Alone``` та проаналізувати їх. Змінна ```Family_size``` передає суму змінних ```Parch``` та ```SibSp```. Змінна ```Family_size``` буде відібражати комбіновані дані, які необхідні для перевірки гіпотези, що ```виживання пасажирів залежіть від кількості членів їх сім'ї```. Змінна ```Alone``` позначає наявніть сім'ї."
   ]
  },
  {
   "cell_type": "code",
   "execution_count": 5,
   "metadata": {},
   "outputs": [],
   "source": [
    "import pandas as pd\n",
    "import matplotlib.pyplot as plt\n",
    "import seaborn as sns\n",
    "\n",
    "# Завантаження датасету з CSV-файлу \n",
    "df = pd.read_csv('titanic.csv')\n",
    "\n",
    "# Створення змінної 'Family_size' яка є сумою 'Parch' та 'SibSp'\n",
    "df['Family_size'] = df['Parch'] + df['SibSp']\n",
    "\n",
    "# Створення змінної 'Alone', яка вказує на наявність сім'ї\n",
    "df['Alone'] = df['Family_size'].apply(lambda x: 'Alone' if x == 0 else 'With Family')\n",
    "\n",
    "# Аналіз нових змінних 'Family_size' та 'Alone'\n",
    "plt.figure(figsize=(10, 6))\n",
    "sns.countplot(x='Family_size', hue='Survived', data=df)\n",
    "plt.title('Кількість виживших залежно від Family_size')\n",
    "plt.xlabel('Family_size')\n",
    "plt.ylabel('Кількість')\n",
    "plt.legend(title='Survived', loc='upper right')\n",
    "plt.show()\n",
    "\n",
    "plt.figure(figsize=(8, 5))\n",
    "sns.countplot(x='Alone', hue='Survived', data=df)\n",
    "plt.title('Кількість виживших залежно від Alone')\n",
    "plt.xlabel('Alone')\n",
    "plt.ylabel('Кількість')\n",
    "plt.legend(title='Survived', loc='upper right')\n",
    "plt.show()\n"
   ]
  },
  {
   "cell_type": "markdown",
   "metadata": {},
   "source": [
    "Ваші висновки: Цей код спочатку створює нову змінну Family_size, яка є сумою змінних Parch та SibSp. Потім створює змінну Alone, яка вказує на наявність сім'ї: \"Alone\" для пасажирів без сім'ї та \"With Family\" для пасажирів з сім'єю. Далі код аналізує кількість виживших пасажирів залежно від розміру сім'ї (Family_size) та наявності сім'ї (Alone), будуючи відповідні графіки."
   ]
  },
  {
   "cell_type": "markdown",
   "metadata": {
    "id": "8tynNQe7nE8H"
   },
   "source": [
    "***Завдання 8:*** Видалити атрибути які є ***НЕрелевантними*** або містять багато пропущених значень. Аргументувати свій вибір."
   ]
  },
  {
   "cell_type": "code",
   "execution_count": 6,
   "metadata": {},
   "outputs": [],
   "source": [
    "import pandas as pd\n",
    "\n",
    "# Завантаження датасету з CSV-файлу \n",
    "df = pd.read_csv('titanic.csv')\n",
    "\n",
    "# Визначення кількості пропущених значень у кожному атрибуті\n",
    "missing_values = df.isnull().sum()\n",
    "\n",
    "# Вивід кількості пропущених значень у кожному атрибуті\n",
    "print(\"Кількість пропущених значень у кожному атрибуті:\")\n",
    "print(missing_values)\n",
    "\n",
    "# Видалення атрибутів, які містять багато пропущених значень або є нерелевантними\n",
    "# Наприклад, якщо більше половини значень пропущено, то видаляємо такі атрибути\n",
    "threshold = len(df) * 0.5\n",
    "df_cleaned = df.dropna(thresh=threshold, axis=1)\n",
    "\n",
    "# Вивід списку видалених атрибутів\n",
    "deleted_columns = set(df.columns) - set(df_cleaned.columns)\n",
    "print(\"\\nВидалені атрибути:\")\n",
    "print(deleted_columns)\n",
    "\n",
    "# Збереження очищеного датасету у новий CSV-файл\n",
    "df_cleaned.to_csv('titanic_cleaned.csv', index=False)\n"
   ]
  },
  {
   "cell_type": "markdown",
   "metadata": {},
   "source": [
    "Ваші висновки:Для видалення атрибутів, які є нерелевантними або містять багато пропущених значень, можна використати певні критерії оцінки значимості змінних в контексті задачі. Основні критерії для видалення атрибутів можуть включати:\n",
    "\n",
    "Кількість пропущених значень: Якщо змінна містить значну кількість пропущених значень (наприклад, більше половини), це може ускладнити аналіз та моделювання даних.\n",
    "\n",
    "Кореляція з цільовою змінною: Якщо змінна слабо корелює з цільовою змінною або не має значущого впливу на прогнозування цільової змінної, то вона може бути нерелевантною для моделювання.\n",
    "\n",
    "Дублюючі змінні: Якщо дві або більше змінних сильно корелюють між собою, можна видалити одну з цих змінних, оскільки вони можуть внести зайву складність у модель.\n",
    "\n",
    "Змінні з низьким варіабельністю: Якщо змінна має малу варіабельність (наприклад, майже всі значення однакові), вона не додає значущої інформації для аналізу."
   ]
  },
  {
   "cell_type": "markdown",
   "metadata": {
    "id": "jrkDsg1pnE8I"
   },
   "source": [
    "***Завдання 9:*** Перетворіть змінні ```Sex```, ```Embarked``` та ```Title``` в числові значення\n"
   ]
  },
  {
   "cell_type": "code",
   "execution_count": 7,
   "metadata": {},
   "outputs": [],
   "source": [
    "import pandas as pd\n",
    "\n",
    "# Завантаження датасету з CSV-файлу \n",
    "df = pd.read_csv('titanic.csv')\n",
    "\n",
    "# Використання методу get_dummies() для перетворення змінних в числові значення\n",
    "df_encoded = pd.get_dummies(df, columns=['Sex', 'Embarked', 'Title'])\n",
    "\n",
    "# Вивід першіх рядків очищеного датасету\n",
    "print(df_encoded.head())\n"
   ]
  },
  {
   "cell_type": "markdown",
   "metadata": {},
   "source": [
    "Ваші висновки:У цьому коді pd.get_dummies(df, columns=['Sex', 'Embarked', 'Title']) створить фіктивні змінні для змінних Sex, Embarked та Title, перетворивши їх у числові значення."
   ]
  },
  {
   "cell_type": "markdown",
   "metadata": {
    "id": "vzHF2_WTnE8K"
   },
   "source": [
    "***Завдання 10.*** Побудувати графіки всіх категоріальних змінних та проаналізувати скільки кожна категорія містить даних\n",
    "\n",
    "1.   виділити категоріальні змінні \n",
    "2.   побудувати сітку графіків кількості спотрережень по кожній категорії\n",
    "\n"
   ]
  },
  {
   "cell_type": "code",
   "execution_count": null,
   "metadata": {
    "id": "cT1yoN3gwsCc"
   },
   "outputs": [],
   "source": [
    "import pandas as pd\n",
    "import seaborn as sns\n",
    "import matplotlib.pyplot as plt\n",
    "\n",
    "# Завантаження датасету з CSV-файлу (titanic.csv)\n",
    "df = pd.read_csv('titanic.csv')\n",
    "\n",
    "# Вибір категоріальних змінних для аналізу\n",
    "categorical_vars = ['Sex', 'Embarked', 'Title']\n",
    "\n",
    "# Побудова сітки графіків для кожної категоріальної змінної\n",
    "plt.figure(figsize=(15, 5))\n",
    "for i, var in enumerate(categorical_vars, 1):\n",
    "    plt.subplot(1, len(categorical_vars), i)\n",
    "    sns.countplot(x=var, data=df)\n",
    "    plt.title(f'Кількість спостережень за {var}')\n",
    "    plt.xlabel(var)\n",
    "    plt.ylabel('Кількість спостережень')\n",
    "plt.tight_layout()\n",
    "plt.show()\n"
   ]
  },
  {
   "cell_type": "markdown",
   "metadata": {},
   "source": [
    "Ваші висновки:Цей код дозволяє швидко проаналізувати кількість спостережень у кожній категорії категоріальних змінних та допоможе зрозуміти розподіл даних."
   ]
  },
  {
   "cell_type": "markdown",
   "metadata": {
    "id": "8W168W_-wsCc"
   },
   "source": [
    "***Завдання 11.*** Побудувати діаграми розподілу всіх числових змінних"
   ]
  },
  {
   "cell_type": "code",
   "execution_count": null,
   "metadata": {
    "id": "SfDK5Kr_wsCc"
   },
   "outputs": [],
   "source": [
    "import pandas as pd\n",
    "import seaborn as sns\n",
    "import matplotlib.pyplot as plt\n",
    "\n",
    "# Завантаження датасету з CSV-файлу\n",
    "df = pd.read_csv('titanic.csv')\n",
    "\n",
    "# Вибір числових змінних для аналізу\n",
    "numerical_vars = ['PassengerId', 'Survived', 'Pclass', 'Age', 'SibSp', 'Parch', 'Fare']\n",
    "\n",
    "# Побудова графіків розподілу для кожної числової змінної\n",
    "plt.figure(figsize=(15, 10))\n",
    "for i, var in enumerate(numerical_vars, 1):\n",
    "    plt.subplot(3, 3, i)\n",
    "    sns.histplot(df[var], kde=True)\n",
    "    plt.title(f'Розподіл {var}')\n",
    "    plt.xlabel(var)\n",
    "    plt.ylabel('Частота')\n",
    "plt.tight_layout()\n",
    "plt.show()\n"
   ]
  },
  {
   "cell_type": "markdown",
   "metadata": {},
   "source": [
    "Ваші висновки:У цьому коді ми обираємо числові змінні 'PassengerId', 'Survived', 'Pclass', 'Age', 'SibSp', 'Parch' та 'Fare' для аналізу. Потім за допомогою циклу for ми будуємо графіки розподілу для кожної з цих числових змінних. sns.histplot() використовується для побудови гістограми розподілу з можливістю включення ядерної оцінки щільності (kde=True).\n",
    "\n",
    "Цей код дозволяє швидко проаналізувати розподіл кожної числової змінної та допоможе зрозуміти їхню структуру та властивості."
   ]
  },
  {
   "cell_type": "markdown",
   "metadata": {
    "id": "bxCl26iPwsCc"
   },
   "source": [
    "##Співвіднонешшя між всіма числовими змінними \n",
    "  \n",
    "***Завдання 12.*** В деяких випадках візуалізація співвідношення між змінними (числовими, категоріальними) дає можливість побачити викиди в змінних та знайти приховані тенденції і виділити навіть додаткові змінні. Тому, необхідно:\n",
    "1) побудувати графіки співвідношення між всіма числовими змінними.  \n",
    "2) описати отримані співвідношення і запропонувати як їх можна (чи не можна) використати"
   ]
  },
  {
   "cell_type": "code",
   "execution_count": null,
   "metadata": {
    "id": "UXvfNj3vwsCc"
   },
   "outputs": [],
   "source": [
    "import pandas as pd\n",
    "import seaborn as sns\n",
    "import matplotlib.pyplot as plt\n",
    "\n",
    "# Завантаження датасету з CSV-файлу \n",
    "df = pd.read_csv('titanic.csv')\n",
    "\n",
    "# Вибір числових змінних для аналізу\n",
    "numerical_vars = ['PassengerId', 'Survived', 'Pclass', 'Age', 'SibSp', 'Parch', 'Fare']\n",
    "\n",
    "# Побудова матриці діаграм розсіювання\n",
    "sns.pairplot(df[numerical_vars], diag_kind='kde')\n",
    "plt.suptitle('Матриця діаграм розсіювання для числових змінних', y=1.02)\n",
    "plt.show()\n"
   ]
  },
  {
   "cell_type": "markdown",
   "metadata": {},
   "source": [
    "Ваші висновки:З цієї візуалізації можна отримати важливі відомості про співвідношення між числовими змінними та визначити, як їх можна використовувати для аналізу та моделювання даних."
   ]
  },
  {
   "cell_type": "markdown",
   "metadata": {
    "id": "vv4URR2twsCd"
   },
   "source": [
    "Кожне правильно виконане завдання буде оцінюватись в ```2 бали```."
   ]
  }
 ],
 "metadata": {
  "colab": {
   "name": "Task3_basic_ai_ad.ipynb",
   "provenance": []
  },
  "kernelspec": {
   "display_name": "Python 3",
   "language": "python",
   "name": "python3"
  },
  "language_info": {
   "codemirror_mode": {
    "name": "ipython",
    "version": 3
   },
   "file_extension": ".py",
   "mimetype": "text/x-python",
   "name": "python",
   "nbconvert_exporter": "python",
   "pygments_lexer": "ipython3",
   "version": "3.8.5"
  }
 },
 "nbformat": 4,
 "nbformat_minor": 4
}
